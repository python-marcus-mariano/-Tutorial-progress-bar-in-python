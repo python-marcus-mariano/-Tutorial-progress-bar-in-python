{
 "cells": [
  {
   "cell_type": "markdown",
   "metadata": {},
   "source": [
    "# Add a progress bar to Python\n",
    "\n",
    "Tutorial for improve skills: 'A Demo of tqdm' (Coding Tech) and 'How to add a progress bar to Python with tqdm' (Let's Learn About) by Marcus Mariano\n",
    "\n",
    "**For more information about Marcus Mariano: [Web site](https://marcusmariano.github.io/mmariano/)**\n",
    "\n",
    "---\n",
    "\n",
    "**A Demo of tqdm: [here.](https://www.youtube.com/watch?v=TGxP5N7nG0I&t=133s)**   "
   ]
  },
  {
   "cell_type": "markdown",
   "metadata": {},
   "source": [
    "## A Demo of tqdm - tqdm "
   ]
  },
  {
   "cell_type": "code",
   "execution_count": 1,
   "metadata": {},
   "outputs": [],
   "source": [
    "from tqdm import tqdm"
   ]
  },
  {
   "cell_type": "code",
   "execution_count": 2,
   "metadata": {},
   "outputs": [
    {
     "name": "stderr",
     "output_type": "stream",
     "text": [
      "100%|█████████████████████████████████████| 100/100 [00:00<00:00, 98457.84it/s]\n"
     ]
    }
   ],
   "source": [
    "for i in tqdm(range(int(100))):\n",
    "    pass"
   ]
  },
  {
   "cell_type": "markdown",
   "metadata": {},
   "source": [
    "### Before tqdm"
   ]
  },
  {
   "cell_type": "code",
   "execution_count": 3,
   "metadata": {},
   "outputs": [
    {
     "name": "stdout",
     "output_type": "stream",
     "text": [
      "Er, how long did that take?\n"
     ]
    }
   ],
   "source": [
    "from time import sleep\n",
    "\n",
    "for i in range(100):\n",
    "    sleep(0.01)\n",
    "print('Er, how long did that take?')"
   ]
  },
  {
   "cell_type": "markdown",
   "metadata": {},
   "source": [
    "### After tqdm"
   ]
  },
  {
   "cell_type": "code",
   "execution_count": 4,
   "metadata": {},
   "outputs": [
    {
     "name": "stderr",
     "output_type": "stream",
     "text": [
      "100%|████████████████████████████████████████| 100/100 [00:01<00:00, 91.75it/s]\n"
     ]
    }
   ],
   "source": [
    "from tqdm import tqdm  # <-- yes\n",
    "from time import sleep\n",
    "\n",
    "for i in tqdm(range(100)):  # <--magic\n",
    "    sleep(0.01)"
   ]
  },
  {
   "cell_type": "markdown",
   "metadata": {},
   "source": [
    "trange(N) can ben also used as a convenient shortcut for tqdm(xrange(N))"
   ]
  },
  {
   "cell_type": "code",
   "execution_count": 5,
   "metadata": {},
   "outputs": [
    {
     "name": "stderr",
     "output_type": "stream",
     "text": [
      "100%|████████████████████████████████████████| 100/100 [00:01<00:00, 93.13it/s]\n"
     ]
    }
   ],
   "source": [
    "from tqdm import trange\n",
    "from time import sleep\n",
    "\n",
    "for i in trange(100): \n",
    "    sleep(0.01)"
   ]
  },
  {
   "cell_type": "code",
   "execution_count": 6,
   "metadata": {},
   "outputs": [
    {
     "name": "stderr",
     "output_type": "stream",
     "text": [
      "  0%|                                                  | 0/100 [00:00<?, ?it/s]\n",
      "  9%|███▊                                      | 9/100 [00:00<00:01, 86.59it/s]\u001b[A\n",
      " 18%|███████▍                                 | 18/100 [00:00<00:00, 86.59it/s]\u001b[A\n",
      " 27%|███████████                              | 27/100 [00:00<00:00, 87.09it/s]\u001b[A\n",
      " 36%|██████████████▊                          | 36/100 [00:00<00:00, 87.18it/s]\u001b[A\n",
      " 45%|██████████████████▍                      | 45/100 [00:00<00:00, 86.03it/s]\u001b[A\n",
      " 54%|██████████████████████▏                  | 54/100 [00:00<00:00, 86.70it/s]\u001b[A\n",
      " 63%|█████████████████████████▊               | 63/100 [00:00<00:00, 86.66it/s]\u001b[A\n",
      " 72%|█████████████████████████████▌           | 72/100 [00:00<00:00, 86.64it/s]\u001b[A\n",
      " 81%|█████████████████████████████████▏       | 81/100 [00:00<00:00, 86.88it/s]\u001b[A\n",
      " 90%|████████████████████████████████████▉    | 90/100 [00:01<00:00, 87.29it/s]\u001b[A\n",
      " 99%|████████████████████████████████████████▌| 99/100 [00:01<00:00, 84.87it/s]\u001b[A\n",
      "100%|████████████████████████████████████████| 100/100 [00:01<00:00, 82.63it/s]\u001b[A\n",
      "100%|████████████████████████████████████████| 100/100 [00:01<00:00, 81.75it/s]\n",
      "100%|████████████████████████████████████████| 100/100 [00:01<00:00, 81.89it/s]\n"
     ]
    }
   ],
   "source": [
    "from tqdm import tqdm\n",
    "from time import sleep\n",
    "\n",
    "for i in tqdm(trange(100)):  \n",
    "    sleep(0.01)"
   ]
  },
  {
   "cell_type": "code",
   "execution_count": 7,
   "metadata": {},
   "outputs": [
    {
     "name": "stderr",
     "output_type": "stream",
     "text": [
      "Hello: 100%|██████████████████████████████| 100/100 [00:01<00:00, 90.59epoch/s]\n"
     ]
    }
   ],
   "source": [
    "from tqdm import trange\n",
    "from time import sleep\n",
    "\n",
    "for i in trange(100, desc = 'Hello', unit = 'epoch'): \n",
    "    sleep(0.01)"
   ]
  },
  {
   "cell_type": "markdown",
   "metadata": {},
   "source": [
    "## It can also be executed as a module with pipes:\n",
    "\n",
    "command line:"
   ]
  },
  {
   "cell_type": "code",
   "execution_count": 8,
   "metadata": {},
   "outputs": [
    {
     "name": "stdout",
     "output_type": "stream",
     "text": [
      "999999\n"
     ]
    },
    {
     "name": "stderr",
     "output_type": "stream",
     "text": [
      "\n",
      "0it [00:00, ?it/s]\n",
      "1860it [00:00, 3500.76it/s]\n",
      "75699it [00:00, 4990.85it/s]\n",
      "141454it [00:00, 7106.45it/s]\n",
      "215796it [00:00, 10110.26it/s]\n",
      "272358it [00:00, 14332.40it/s]\n",
      "329699it [00:01, 20255.84it/s]\n",
      "396537it [00:01, 28563.79it/s]\n",
      "468822it [00:01, 40119.57it/s]\n",
      "540360it [00:01, 55956.09it/s]\n",
      "628305it [00:01, 77795.94it/s]\n",
      "722558it [00:01, 107305.41it/s]\n",
      "815082it [00:01, 145969.90it/s]\n",
      "917491it [00:01, 196416.88it/s]\n",
      "999999it [00:01, 549386.76it/s]\n"
     ]
    }
   ],
   "source": [
    "! seq 999999 | python -m tqdm | wc -l"
   ]
  },
  {
   "cell_type": "code",
   "execution_count": 9,
   "metadata": {},
   "outputs": [
    {
     "name": "stdout",
     "output_type": "stream",
     "text": [
      "999999\n"
     ]
    },
    {
     "name": "stderr",
     "output_type": "stream",
     "text": [
      "\n",
      "0.00B [00:00, ?B/s]\n",
      "4.98MB [00:00, 51.7MB/s]\n",
      "6.57MB [00:00, 52.2MB/s]\n"
     ]
    }
   ],
   "source": [
    "! seq 999999 | python -m tqdm --bytes | wc -l"
   ]
  },
  {
   "cell_type": "code",
   "execution_count": 10,
   "metadata": {},
   "outputs": [
    {
     "name": "stdout",
     "output_type": "stream",
     "text": [
      "999999\n"
     ]
    },
    {
     "name": "stderr",
     "output_type": "stream",
     "text": [
      "\n",
      "  0%|          | 0.00/76.3M [00:00<?, ?B/s]\n",
      "  6%|5         | 4.30M/76.3M [00:00<00:01, 44.6MB/s]\n",
      "  9%|8         | 6.57M/76.3M [00:00<00:01, 46.3MB/s]\n"
     ]
    }
   ],
   "source": [
    "! seq 999999 | python -m tqdm --bytes --total 80000000| wc -l"
   ]
  },
  {
   "cell_type": "markdown",
   "metadata": {},
   "source": [
    "## Iterable-based\n",
    "\n",
    "Wrap tqdm() around any iterable:"
   ]
  },
  {
   "cell_type": "code",
   "execution_count": 11,
   "metadata": {},
   "outputs": [
    {
     "name": "stderr",
     "output_type": "stream",
     "text": [
      "100%|████████████████████████████████████████████| 4/4 [00:01<00:00,  3.97it/s]\n"
     ]
    }
   ],
   "source": [
    "text = \"\"\n",
    "for char in tqdm(['a', 'b', 'c', 'd']):\n",
    "    sleep(0.25)\n",
    "    text = text + char"
   ]
  },
  {
   "cell_type": "markdown",
   "metadata": {},
   "source": [
    "Instantiation outside of the loop allows for manual control over $tqdm()$:"
   ]
  },
  {
   "cell_type": "code",
   "execution_count": 12,
   "metadata": {},
   "outputs": [
    {
     "name": "stderr",
     "output_type": "stream",
     "text": [
      "Processing d: 100%|██████████████████████████████| 4/4 [00:01<00:00,  3.96it/s]\n"
     ]
    }
   ],
   "source": [
    "pbar = tqdm(['a', 'b', 'c', 'd'])\n",
    "\n",
    "for char in pbar:\n",
    "    sleep(0.25)\n",
    "    pbar.set_description('Processing %s' % char)"
   ]
  },
  {
   "cell_type": "markdown",
   "metadata": {},
   "source": [
    "## Manual\n",
    "\n",
    "Manual control on $tqdm()$ updates by using a $with$ statement:"
   ]
  },
  {
   "cell_type": "code",
   "execution_count": 13,
   "metadata": {},
   "outputs": [
    {
     "name": "stderr",
     "output_type": "stream",
     "text": [
      "100%|████████████████████████████████████████| 100/100 [00:01<00:00, 98.15it/s]\n"
     ]
    }
   ],
   "source": [
    "# Better way\n",
    "with tqdm(total = 100) as pbar:\n",
    "    for i in range(10):\n",
    "        sleep(0.1)\n",
    "        pbar.update(10)"
   ]
  },
  {
   "cell_type": "code",
   "execution_count": 14,
   "metadata": {},
   "outputs": [
    {
     "name": "stderr",
     "output_type": "stream",
     "text": [
      "100%|████████████████████████████████████████| 100/100 [00:01<00:00, 97.33it/s]\n"
     ]
    }
   ],
   "source": [
    "# Always remember to close pbar\n",
    "pbar = tqdm(total = 100)\n",
    "\n",
    "for i in range(10):\n",
    "    sleep(0.1)\n",
    "    pbar.update(10)\n",
    "    \n",
    "pbar.close()"
   ]
  },
  {
   "cell_type": "markdown",
   "metadata": {},
   "source": [
    "## Module\n",
    "\n",
    "Simply inserting $tqdm$ (or python -m tqdm) between pipes will pass through all $stdin$ to $stdout$ while printing progress to $stderr$.\n",
    "\n",
    "Note that the usual arguments for tqdm can also be specified."
   ]
  },
  {
   "cell_type": "code",
   "execution_count": 15,
   "metadata": {},
   "outputs": [
    {
     "name": "stdout",
     "output_type": "stream",
     "text": [
      "0\n"
     ]
    },
    {
     "name": "stderr",
     "output_type": "stream",
     "text": [
      "Arquivo nÆo encontrado  - '*.py'\n"
     ]
    }
   ],
   "source": [
    "! find . -name '*.py' -type f -exec cat \\{} \\; | wc -l"
   ]
  },
  {
   "cell_type": "code",
   "execution_count": 16,
   "metadata": {},
   "outputs": [
    {
     "name": "stdout",
     "output_type": "stream",
     "text": [
      "0\n"
     ]
    },
    {
     "name": "stderr",
     "output_type": "stream",
     "text": [
      "Arquivo nÆo encontrado  - '*.py'\n",
      "C:\\Users\\marcus\\Anaconda3\\Scripts\\tqdm-script.py:5: TqdmDeprecationWarning: This function will be removed in tqdm==5.0.0\n",
      "Please use `tqdm.cli.*` instead of `tqdm._main.*`\n",
      "  from tqdm._main import main\n",
      "\n",
      "0.00loc [00:00, ?loc/s]\n",
      "0.00loc [00:00, ?loc/s]\n"
     ]
    }
   ],
   "source": [
    "! find . -name '*.py' -type f -exec cat \\{} \\; | tqdm --unit loc --unit_scale | wc -l"
   ]
  },
  {
   "cell_type": "markdown",
   "metadata": {},
   "source": [
    "## Documentation"
   ]
  },
  {
   "cell_type": "code",
   "execution_count": 17,
   "metadata": {},
   "outputs": [
    {
     "name": "stdout",
     "output_type": "stream",
     "text": [
      "Help on class tqdm in module tqdm.std:\n",
      "\n",
      "class tqdm(tqdm.utils.Comparable)\n",
      " |  tqdm(*args, **kwargs)\n",
      " |  \n",
      " |  Decorate an iterable object, returning an iterator which acts exactly\n",
      " |  like the original iterable, but prints a dynamically updating\n",
      " |  progressbar every time a value is requested.\n",
      " |  \n",
      " |  Method resolution order:\n",
      " |      tqdm\n",
      " |      tqdm.utils.Comparable\n",
      " |      builtins.object\n",
      " |  \n",
      " |  Methods defined here:\n",
      " |  \n",
      " |  __bool__(self)\n",
      " |  \n",
      " |  __del__(self)\n",
      " |  \n",
      " |  __enter__(self)\n",
      " |  \n",
      " |  __exit__(self, exc_type, exc_value, traceback)\n",
      " |  \n",
      " |  __hash__(self)\n",
      " |      Return hash(self).\n",
      " |  \n",
      " |  __init__(self, iterable=None, desc=None, total=None, leave=True, file=None, ncols=None, mininterval=0.1, maxinterval=10.0, miniters=None, ascii=None, disable=False, unit='it', unit_scale=False, dynamic_ncols=False, smoothing=0.3, bar_format=None, initial=0, position=None, postfix=None, unit_divisor=1000, write_bytes=None, lock_args=None, gui=False, **kwargs)\n",
      " |      Parameters\n",
      " |      ----------\n",
      " |      iterable  : iterable, optional\n",
      " |          Iterable to decorate with a progressbar.\n",
      " |          Leave blank to manually manage the updates.\n",
      " |      desc  : str, optional\n",
      " |          Prefix for the progressbar.\n",
      " |      total  : int or float, optional\n",
      " |          The number of expected iterations. If unspecified,\n",
      " |          len(iterable) is used if possible. If float(\"inf\") or as a last\n",
      " |          resort, only basic progress statistics are displayed\n",
      " |          (no ETA, no progressbar).\n",
      " |          If `gui` is True and this parameter needs subsequent updating,\n",
      " |          specify an initial arbitrary large positive number,\n",
      " |          e.g. 9e9.\n",
      " |      leave  : bool, optional\n",
      " |          If [default: True], keeps all traces of the progressbar\n",
      " |          upon termination of iteration.\n",
      " |          If `None`, will leave only if `position` is `0`.\n",
      " |      file  : `io.TextIOWrapper` or `io.StringIO`, optional\n",
      " |          Specifies where to output the progress messages\n",
      " |          (default: sys.stderr). Uses `file.write(str)` and `file.flush()`\n",
      " |          methods.  For encoding, see `write_bytes`.\n",
      " |      ncols  : int, optional\n",
      " |          The width of the entire output message. If specified,\n",
      " |          dynamically resizes the progressbar to stay within this bound.\n",
      " |          If unspecified, attempts to use environment width. The\n",
      " |          fallback is a meter width of 10 and no limit for the counter and\n",
      " |          statistics. If 0, will not print any meter (only stats).\n",
      " |      mininterval  : float, optional\n",
      " |          Minimum progress display update interval [default: 0.1] seconds.\n",
      " |      maxinterval  : float, optional\n",
      " |          Maximum progress display update interval [default: 10] seconds.\n",
      " |          Automatically adjusts `miniters` to correspond to `mininterval`\n",
      " |          after long display update lag. Only works if `dynamic_miniters`\n",
      " |          or monitor thread is enabled.\n",
      " |      miniters  : int or float, optional\n",
      " |          Minimum progress display update interval, in iterations.\n",
      " |          If 0 and `dynamic_miniters`, will automatically adjust to equal\n",
      " |          `mininterval` (more CPU efficient, good for tight loops).\n",
      " |          If > 0, will skip display of specified number of iterations.\n",
      " |          Tweak this and `mininterval` to get very efficient loops.\n",
      " |          If your progress is erratic with both fast and slow iterations\n",
      " |          (network, skipping items, etc) you should set miniters=1.\n",
      " |      ascii  : bool or str, optional\n",
      " |          If unspecified or False, use unicode (smooth blocks) to fill\n",
      " |          the meter. The fallback is to use ASCII characters \" 123456789#\".\n",
      " |      disable  : bool, optional\n",
      " |          Whether to disable the entire progressbar wrapper\n",
      " |          [default: False]. If set to None, disable on non-TTY.\n",
      " |      unit  : str, optional\n",
      " |          String that will be used to define the unit of each iteration\n",
      " |          [default: it].\n",
      " |      unit_scale  : bool or int or float, optional\n",
      " |          If 1 or True, the number of iterations will be reduced/scaled\n",
      " |          automatically and a metric prefix following the\n",
      " |          International System of Units standard will be added\n",
      " |          (kilo, mega, etc.) [default: False]. If any other non-zero\n",
      " |          number, will scale `total` and `n`.\n",
      " |      dynamic_ncols  : bool, optional\n",
      " |          If set, constantly alters `ncols` to the environment (allowing\n",
      " |          for window resizes) [default: False].\n",
      " |      smoothing  : float, optional\n",
      " |          Exponential moving average smoothing factor for speed estimates\n",
      " |          (ignored in GUI mode). Ranges from 0 (average speed) to 1\n",
      " |          (current/instantaneous speed) [default: 0.3].\n",
      " |      bar_format  : str, optional\n",
      " |          Specify a custom bar string formatting. May impact performance.\n",
      " |          [default: '{l_bar}{bar}{r_bar}'], where\n",
      " |          l_bar='{desc}: {percentage:3.0f}%|' and\n",
      " |          r_bar='| {n_fmt}/{total_fmt} [{elapsed}<{remaining}, '\n",
      " |            '{rate_fmt}{postfix}]'\n",
      " |          Possible vars: l_bar, bar, r_bar, n, n_fmt, total, total_fmt,\n",
      " |            percentage, elapsed, elapsed_s, ncols, desc, unit,\n",
      " |            rate, rate_fmt, rate_noinv, rate_noinv_fmt,\n",
      " |            rate_inv, rate_inv_fmt, postfix, unit_divisor,\n",
      " |            remaining, remaining_s.\n",
      " |          Note that a trailing \": \" is automatically removed after {desc}\n",
      " |          if the latter is empty.\n",
      " |      initial  : int or float, optional\n",
      " |          The initial counter value. Useful when restarting a progress\n",
      " |          bar [default: 0]. If using float, consider specifying `{n:.3f}`\n",
      " |          or similar in `bar_format`, or specifying `unit_scale`.\n",
      " |      position  : int, optional\n",
      " |          Specify the line offset to print this bar (starting from 0)\n",
      " |          Automatic if unspecified.\n",
      " |          Useful to manage multiple bars at once (eg, from threads).\n",
      " |      postfix  : dict or *, optional\n",
      " |          Specify additional stats to display at the end of the bar.\n",
      " |          Calls `set_postfix(**postfix)` if possible (dict).\n",
      " |      unit_divisor  : float, optional\n",
      " |          [default: 1000], ignored unless `unit_scale` is True.\n",
      " |      write_bytes  : bool, optional\n",
      " |          If (default: None) and `file` is unspecified,\n",
      " |          bytes will be written in Python 2. If `True` will also write\n",
      " |          bytes. In all other cases will default to unicode.\n",
      " |      lock_args  : tuple, optional\n",
      " |          Passed to `refresh` for intermediate output\n",
      " |          (initialisation, iterating, and updating).\n",
      " |      gui  : bool, optional\n",
      " |          WARNING: internal parameter - do not use.\n",
      " |          Use tqdm.gui.tqdm(...) instead. If set, will attempt to use\n",
      " |          matplotlib animations for a graphical output [default: False].\n",
      " |      \n",
      " |      Returns\n",
      " |      -------\n",
      " |      out  : decorated iterator.\n",
      " |  \n",
      " |  __iter__(self)\n",
      " |      Backward-compatibility to use: for x in tqdm(iterable)\n",
      " |  \n",
      " |  __len__(self)\n",
      " |  \n",
      " |  __nonzero__(self)\n",
      " |  \n",
      " |  __repr__(self)\n",
      " |      Return repr(self).\n",
      " |  \n",
      " |  clear(self, nolock=False)\n",
      " |      Clear current bar display.\n",
      " |  \n",
      " |  close(self)\n",
      " |      Cleanup and (if leave=False) close the progressbar.\n",
      " |  \n",
      " |  display(self, msg=None, pos=None)\n",
      " |      Use `self.sp` to display `msg` in the specified `pos`.\n",
      " |      \n",
      " |      Consider overloading this function when inheriting to use e.g.:\n",
      " |      `self.some_frontend(**self.format_dict)` instead of `self.sp`.\n",
      " |      \n",
      " |      Parameters\n",
      " |      ----------\n",
      " |      msg  : str, optional. What to display (default: `repr(self)`).\n",
      " |      pos  : int, optional. Position to `moveto`\n",
      " |        (default: `abs(self.pos)`).\n",
      " |  \n",
      " |  moveto(self, n)\n",
      " |  \n",
      " |  refresh(self, nolock=False, lock_args=None)\n",
      " |      Force refresh the display of this bar.\n",
      " |      \n",
      " |      Parameters\n",
      " |      ----------\n",
      " |      nolock  : bool, optional\n",
      " |          If `True`, does not lock.\n",
      " |          If [default: `False`]: calls `acquire()` on internal lock.\n",
      " |      lock_args  : tuple, optional\n",
      " |          Passed to internal lock's `acquire()`.\n",
      " |          If specified, will only `display()` if `acquire()` returns `True`.\n",
      " |  \n",
      " |  reset(self, total=None)\n",
      " |      Resets to 0 iterations for repeated use.\n",
      " |      \n",
      " |      Consider combining with `leave=True`.\n",
      " |      \n",
      " |      Parameters\n",
      " |      ----------\n",
      " |      total  : int or float, optional. Total to use for the new bar.\n",
      " |  \n",
      " |  set_description(self, desc=None, refresh=True)\n",
      " |      Set/modify description of the progress bar.\n",
      " |      \n",
      " |      Parameters\n",
      " |      ----------\n",
      " |      desc  : str, optional\n",
      " |      refresh  : bool, optional\n",
      " |          Forces refresh [default: True].\n",
      " |  \n",
      " |  set_description_str(self, desc=None, refresh=True)\n",
      " |      Set/modify description without ': ' appended.\n",
      " |  \n",
      " |  set_postfix(self, ordered_dict=None, refresh=True, **kwargs)\n",
      " |      Set/modify postfix (additional stats)\n",
      " |      with automatic formatting based on datatype.\n",
      " |      \n",
      " |      Parameters\n",
      " |      ----------\n",
      " |      ordered_dict  : dict or OrderedDict, optional\n",
      " |      refresh  : bool, optional\n",
      " |          Forces refresh [default: True].\n",
      " |      kwargs  : dict, optional\n",
      " |  \n",
      " |  set_postfix_str(self, s='', refresh=True)\n",
      " |      Postfix without dictionary expansion, similar to prefix handling.\n",
      " |  \n",
      " |  unpause(self)\n",
      " |      Restart tqdm timer from last print time.\n",
      " |  \n",
      " |  update(self, n=1)\n",
      " |      Manually update the progress bar, useful for streams\n",
      " |      such as reading files.\n",
      " |      E.g.:\n",
      " |      >>> t = tqdm(total=filesize) # Initialise\n",
      " |      >>> for current_buffer in stream:\n",
      " |      ...    ...\n",
      " |      ...    t.update(len(current_buffer))\n",
      " |      >>> t.close()\n",
      " |      The last line is highly recommended, but possibly not necessary if\n",
      " |      `t.update()` will be called in such a way that `filesize` will be\n",
      " |      exactly reached and printed.\n",
      " |      \n",
      " |      Parameters\n",
      " |      ----------\n",
      " |      n  : int or float, optional\n",
      " |          Increment to add to the internal counter of iterations\n",
      " |          [default: 1]. If using float, consider specifying `{n:.3f}`\n",
      " |          or similar in `bar_format`, or specifying `unit_scale`.\n",
      " |  \n",
      " |  ----------------------------------------------------------------------\n",
      " |  Class methods defined here:\n",
      " |  \n",
      " |  external_write_mode(file=None, nolock=False) from builtins.type\n",
      " |      Disable tqdm within context and refresh tqdm when exits.\n",
      " |      Useful when writing to standard output stream\n",
      " |  \n",
      " |  get_lock() from builtins.type\n",
      " |      Get the global lock. Construct it if it does not exist.\n",
      " |  \n",
      " |  pandas(*targs, **tkwargs) from builtins.type\n",
      " |      Registers the given `tqdm` class with\n",
      " |          pandas.core.\n",
      " |          ( frame.DataFrame\n",
      " |          | series.Series\n",
      " |          | groupby.(generic.)DataFrameGroupBy\n",
      " |          | groupby.(generic.)SeriesGroupBy\n",
      " |          ).progress_apply\n",
      " |      \n",
      " |      A new instance will be create every time `progress_apply` is called,\n",
      " |      and each instance will automatically close() upon completion.\n",
      " |      \n",
      " |      Parameters\n",
      " |      ----------\n",
      " |      targs, tkwargs  : arguments for the tqdm instance\n",
      " |      \n",
      " |      Examples\n",
      " |      --------\n",
      " |      >>> import pandas as pd\n",
      " |      >>> import numpy as np\n",
      " |      >>> from tqdm import tqdm\n",
      " |      >>> from tqdm.gui import tqdm as tqdm_gui\n",
      " |      >>>\n",
      " |      >>> df = pd.DataFrame(np.random.randint(0, 100, (100000, 6)))\n",
      " |      >>> tqdm.pandas(ncols=50)  # can use tqdm_gui, optional kwargs, etc\n",
      " |      >>> # Now you can use `progress_apply` instead of `apply`\n",
      " |      >>> df.groupby(0).progress_apply(lambda x: x**2)\n",
      " |      \n",
      " |      References\n",
      " |      ----------\n",
      " |      https://stackoverflow.com/questions/18603270/\n",
      " |      progress-indicator-during-pandas-operations-python\n",
      " |  \n",
      " |  set_lock(lock) from builtins.type\n",
      " |      Set the global lock.\n",
      " |  \n",
      " |  wrapattr(stream, method, total=None, bytes=True, **tkwargs) from builtins.type\n",
      " |      stream  : file-like object.\n",
      " |      method  : str, \"read\" or \"write\". The result of `read()` and\n",
      " |          the first argument of `write()` should have a `len()`.\n",
      " |      \n",
      " |      >>> with tqdm.wrapattr(file_obj, \"read\", total=file_obj.size) as fobj:\n",
      " |      ...     while True:\n",
      " |      ...         chunk = fobj.read(chunk_size)\n",
      " |      ...         if not chunk:\n",
      " |      ...             break\n",
      " |  \n",
      " |  write(s, file=None, end='\\n', nolock=False) from builtins.type\n",
      " |      Print a message via tqdm (without overlap with bars).\n",
      " |  \n",
      " |  ----------------------------------------------------------------------\n",
      " |  Static methods defined here:\n",
      " |  \n",
      " |  __new__(cls, *args, **kwargs)\n",
      " |      Create and return a new object.  See help(type) for accurate signature.\n",
      " |  \n",
      " |  ema(x, mu=None, alpha=0.3)\n",
      " |      Exponential moving average: smoothing to give progressively lower\n",
      " |      weights to older values.\n",
      " |      \n",
      " |      Parameters\n",
      " |      ----------\n",
      " |      x  : float\n",
      " |          New value to include in EMA.\n",
      " |      mu  : float, optional\n",
      " |          Previous EMA value.\n",
      " |      alpha  : float, optional\n",
      " |          Smoothing factor in range [0, 1], [default: 0.3].\n",
      " |          Increase to give more weight to recent values.\n",
      " |          Ranges from 0 (yields mu) to 1 (yields x).\n",
      " |  \n",
      " |  format_interval(t)\n",
      " |      Formats a number of seconds as a clock time, [H:]MM:SS\n",
      " |      \n",
      " |      Parameters\n",
      " |      ----------\n",
      " |      t  : int\n",
      " |          Number of seconds.\n",
      " |      \n",
      " |      Returns\n",
      " |      -------\n",
      " |      out  : str\n",
      " |          [H:]MM:SS\n",
      " |  \n",
      " |  format_meter(n, total, elapsed, ncols=None, prefix='', ascii=False, unit='it', unit_scale=False, rate=None, bar_format=None, postfix=None, unit_divisor=1000, **extra_kwargs)\n",
      " |      Return a string-based progress bar given some parameters\n",
      " |      \n",
      " |      Parameters\n",
      " |      ----------\n",
      " |      n  : int or float\n",
      " |          Number of finished iterations.\n",
      " |      total  : int or float\n",
      " |          The expected total number of iterations. If meaningless (None),\n",
      " |          only basic progress statistics are displayed (no ETA).\n",
      " |      elapsed  : float\n",
      " |          Number of seconds passed since start.\n",
      " |      ncols  : int, optional\n",
      " |          The width of the entire output message. If specified,\n",
      " |          dynamically resizes `{bar}` to stay within this bound\n",
      " |          [default: None]. If `0`, will not print any bar (only stats).\n",
      " |          The fallback is `{bar:10}`.\n",
      " |      prefix  : str, optional\n",
      " |          Prefix message (included in total width) [default: ''].\n",
      " |          Use as {desc} in bar_format string.\n",
      " |      ascii  : bool, optional or str, optional\n",
      " |          If not set, use unicode (smooth blocks) to fill the meter\n",
      " |          [default: False]. The fallback is to use ASCII characters\n",
      " |          \" 123456789#\".\n",
      " |      unit  : str, optional\n",
      " |          The iteration unit [default: 'it'].\n",
      " |      unit_scale  : bool or int or float, optional\n",
      " |          If 1 or True, the number of iterations will be printed with an\n",
      " |          appropriate SI metric prefix (k = 10^3, M = 10^6, etc.)\n",
      " |          [default: False]. If any other non-zero number, will scale\n",
      " |          `total` and `n`.\n",
      " |      rate  : float, optional\n",
      " |          Manual override for iteration rate.\n",
      " |          If [default: None], uses n/elapsed.\n",
      " |      bar_format  : str, optional\n",
      " |          Specify a custom bar string formatting. May impact performance.\n",
      " |          [default: '{l_bar}{bar}{r_bar}'], where\n",
      " |          l_bar='{desc}: {percentage:3.0f}%|' and\n",
      " |          r_bar='| {n_fmt}/{total_fmt} [{elapsed}<{remaining}, '\n",
      " |            '{rate_fmt}{postfix}]'\n",
      " |          Possible vars: l_bar, bar, r_bar, n, n_fmt, total, total_fmt,\n",
      " |            percentage, elapsed, elapsed_s, ncols, desc, unit,\n",
      " |            rate, rate_fmt, rate_noinv, rate_noinv_fmt,\n",
      " |            rate_inv, rate_inv_fmt, postfix, unit_divisor,\n",
      " |            remaining, remaining_s.\n",
      " |          Note that a trailing \": \" is automatically removed after {desc}\n",
      " |          if the latter is empty.\n",
      " |      postfix  : *, optional\n",
      " |          Similar to `prefix`, but placed at the end\n",
      " |          (e.g. for additional stats).\n",
      " |          Note: postfix is usually a string (not a dict) for this method,\n",
      " |          and will if possible be set to postfix = ', ' + postfix.\n",
      " |          However other types are supported (#382).\n",
      " |      unit_divisor  : float, optional\n",
      " |          [default: 1000], ignored unless `unit_scale` is True.\n",
      " |      \n",
      " |      Returns\n",
      " |      -------\n",
      " |      out  : Formatted meter and stats, ready to display.\n",
      " |  \n",
      " |  format_num(n)\n",
      " |      Intelligent scientific notation (.3g).\n",
      " |      \n",
      " |      Parameters\n",
      " |      ----------\n",
      " |      n  : int or float or Numeric\n",
      " |          A Number.\n",
      " |      \n",
      " |      Returns\n",
      " |      -------\n",
      " |      out  : str\n",
      " |          Formatted number.\n",
      " |  \n",
      " |  format_sizeof(num, suffix='', divisor=1000)\n",
      " |      Formats a number (greater than unity) with SI Order of Magnitude\n",
      " |      prefixes.\n",
      " |      \n",
      " |      Parameters\n",
      " |      ----------\n",
      " |      num  : float\n",
      " |          Number ( >= 1) to format.\n",
      " |      suffix  : str, optional\n",
      " |          Post-postfix [default: ''].\n",
      " |      divisor  : float, optional\n",
      " |          Divisor between prefixes [default: 1000].\n",
      " |      \n",
      " |      Returns\n",
      " |      -------\n",
      " |      out  : str\n",
      " |          Number with Order of Magnitude SI unit postfix.\n",
      " |  \n",
      " |  status_printer(file)\n",
      " |      Manage the printing and in-place updating of a line of characters.\n",
      " |      Note that if the string is longer than a line, then in-place\n",
      " |      updating may not work (it will print a new line at each refresh).\n",
      " |  \n",
      " |  ----------------------------------------------------------------------\n",
      " |  Data descriptors defined here:\n",
      " |  \n",
      " |  format_dict\n",
      " |      Public API for read-only member access.\n",
      " |  \n",
      " |  ----------------------------------------------------------------------\n",
      " |  Data and other attributes defined here:\n",
      " |  \n",
      " |  monitor = None\n",
      " |  \n",
      " |  monitor_interval = 10\n",
      " |  \n",
      " |  ----------------------------------------------------------------------\n",
      " |  Methods inherited from tqdm.utils.Comparable:\n",
      " |  \n",
      " |  __eq__(self, other)\n",
      " |      Return self==value.\n",
      " |  \n",
      " |  __ge__(self, other)\n",
      " |      Return self>=value.\n",
      " |  \n",
      " |  __gt__(self, other)\n",
      " |      Return self>value.\n",
      " |  \n",
      " |  __le__(self, other)\n",
      " |      Return self<=value.\n",
      " |  \n",
      " |  __lt__(self, other)\n",
      " |      Return self<value.\n",
      " |  \n",
      " |  __ne__(self, other)\n",
      " |      Return self!=value.\n",
      " |  \n",
      " |  ----------------------------------------------------------------------\n",
      " |  Data descriptors inherited from tqdm.utils.Comparable:\n",
      " |  \n",
      " |  __dict__\n",
      " |      dictionary for instance variables (if defined)\n",
      " |  \n",
      " |  __weakref__\n",
      " |      list of weak references to the object (if defined)\n",
      "\n"
     ]
    }
   ],
   "source": [
    "help(tqdm)"
   ]
  },
  {
   "cell_type": "code",
   "execution_count": 18,
   "metadata": {},
   "outputs": [],
   "source": [
    "tqdm?"
   ]
  },
  {
   "cell_type": "markdown",
   "metadata": {},
   "source": [
    "## Description and additional stats\n",
    "\n",
    "Custom information can be displayed and updated dynamically on $tqdm$ bars with the $desc$ and $postfix$ arguments:"
   ]
  },
  {
   "cell_type": "code",
   "execution_count": 17,
   "metadata": {},
   "outputs": [
    {
     "name": "stderr",
     "output_type": "stream",
     "text": [
      "GEN 9: 100%|█| 10/10 [00:01<00:00,  9.45it/s, gen=187, loss=0.647, lst=[1, 2], \n"
     ]
    }
   ],
   "source": [
    "from tqdm import trange\n",
    "from random import random, randint \n",
    "from time import sleep\n",
    "\n",
    "with trange(10) as t:\n",
    "    for i in t:\n",
    "        t.set_description('GEN %i' % i)\n",
    "#         formatted automatically based on argument's datatype\n",
    "        t.set_postfix(loss = random(), gen = randint(1, 999), str = 'h', lst = [1, 2])\n",
    "        sleep(0.1)"
   ]
  },
  {
   "cell_type": "code",
   "execution_count": 18,
   "metadata": {},
   "outputs": [
    {
     "name": "stderr",
     "output_type": "stream",
     "text": [
      "Batch      4.5\n"
     ]
    }
   ],
   "source": [
    "with tqdm(total = 10, bar_format = '{postfix[0]} {postfix[1][value]:> 8.2g}',\n",
    "         postfix = ['Batch', dict(value = 0)]) as t:\n",
    "    for i in range(10):\n",
    "        sleep(0.1)\n",
    "        t.postfix[1]['value'] = i / 2\n",
    "        t.update()\n"
   ]
  },
  {
   "cell_type": "markdown",
   "metadata": {},
   "source": [
    "## Nested Progress Bars\n",
    "\n",
    "$tqdm$ supports nested progress bars. Here's an example:"
   ]
  },
  {
   "cell_type": "code",
   "execution_count": 19,
   "metadata": {},
   "outputs": [
    {
     "name": "stderr",
     "output_type": "stream",
     "text": [
      "1st loop:   0%|                                          | 0/4 [00:00<?, ?it/s]\n",
      "2nd loop:   0%|                                          | 0/5 [00:00<?, ?it/s]\u001b[A\n",
      "\n",
      "3nd loop:   0%|                                         | 0/50 [00:00<?, ?it/s]\u001b[A\u001b[A\n",
      "\n",
      "3nd loop:  20%|██████▍                         | 10/50 [00:00<00:00, 92.62it/s]\u001b[A\u001b[A\n",
      "\n",
      "3nd loop:  38%|████████████▏                   | 19/50 [00:00<00:00, 91.00it/s]\u001b[A\u001b[A\n",
      "\n",
      "3nd loop:  56%|█████████████████▉              | 28/50 [00:00<00:00, 90.43it/s]\u001b[A\u001b[A\n",
      "\n",
      "3nd loop:  74%|███████████████████████▋        | 37/50 [00:00<00:00, 90.04it/s]\u001b[A\u001b[A\n",
      "\n",
      "3nd loop:  92%|█████████████████████████████▍  | 46/50 [00:00<00:00, 89.78it/s]\u001b[A\u001b[A\n",
      "\n",
      "                                                                               \u001b[A\u001b[A\n",
      "2nd loop:  20%|██████▊                           | 1/5 [00:00<00:02,  1.76it/s]\u001b[A\n",
      "\n",
      "3nd loop:   0%|                                         | 0/50 [00:00<?, ?it/s]\u001b[A\u001b[A\n",
      "\n",
      "3nd loop:  20%|██████▍                         | 10/50 [00:00<00:00, 93.48it/s]\u001b[A\u001b[A\n",
      "\n",
      "3nd loop:  38%|████████████▏                   | 19/50 [00:00<00:00, 91.58it/s]\u001b[A\u001b[A\n",
      "\n",
      "3nd loop:  56%|█████████████████▉              | 28/50 [00:00<00:00, 90.01it/s]\u001b[A\u001b[A\n",
      "\n",
      "3nd loop:  74%|███████████████████████▋        | 37/50 [00:00<00:00, 89.34it/s]\u001b[A\u001b[A\n",
      "\n",
      "3nd loop:  92%|█████████████████████████████▍  | 46/50 [00:00<00:00, 89.02it/s]\u001b[A\u001b[A\n",
      "\n",
      "                                                                               \u001b[A\u001b[A\n",
      "2nd loop:  40%|█████████████▌                    | 2/5 [00:01<00:01,  1.73it/s]\u001b[A\n",
      "\n",
      "3nd loop:   0%|                                         | 0/50 [00:00<?, ?it/s]\u001b[A\u001b[A\n",
      "\n",
      "3nd loop:  20%|██████▍                         | 10/50 [00:00<00:00, 90.14it/s]\u001b[A\u001b[A\n",
      "\n",
      "3nd loop:  38%|████████████▏                   | 19/50 [00:00<00:00, 88.00it/s]\u001b[A\u001b[A\n",
      "\n",
      "3nd loop:  54%|█████████████████▎              | 27/50 [00:00<00:00, 84.91it/s]\u001b[A\u001b[A\n",
      "\n",
      "3nd loop:  70%|██████████████████████▍         | 35/50 [00:00<00:00, 82.87it/s]\u001b[A\u001b[A\n",
      "\n",
      "3nd loop:  88%|████████████████████████████▏   | 44/50 [00:00<00:00, 84.43it/s]\u001b[A\u001b[A\n",
      "\n",
      "                                                                               \u001b[A\u001b[A\n",
      "2nd loop:  60%|████████████████████▍             | 3/5 [00:01<00:01,  1.69it/s]\u001b[A\n",
      "\n",
      "3nd loop:   0%|                                         | 0/50 [00:00<?, ?it/s]\u001b[A\u001b[A\n",
      "\n",
      "3nd loop:  20%|██████▍                         | 10/50 [00:00<00:00, 92.33it/s]\u001b[A\u001b[A\n",
      "\n",
      "3nd loop:  38%|████████████▏                   | 19/50 [00:00<00:00, 90.72it/s]\u001b[A\u001b[A\n",
      "\n",
      "3nd loop:  56%|█████████████████▉              | 28/50 [00:00<00:00, 88.91it/s]\u001b[A\u001b[A\n",
      "\n",
      "3nd loop:  72%|███████████████████████         | 36/50 [00:00<00:00, 83.36it/s]\u001b[A\u001b[A\n",
      "\n",
      "3nd loop:  90%|████████████████████████████▊   | 45/50 [00:00<00:00, 83.60it/s]\u001b[A\u001b[A\n",
      "\n",
      "                                                                               \u001b[A\u001b[A\n",
      "2nd loop:  80%|███████████████████████████▏      | 4/5 [00:02<00:00,  1.67it/s]\u001b[A\n",
      "\n",
      "3nd loop:   0%|                                         | 0/50 [00:00<?, ?it/s]\u001b[A\u001b[A\n",
      "\n",
      "3nd loop:  20%|██████▍                         | 10/50 [00:00<00:00, 92.78it/s]\u001b[A\u001b[A\n",
      "\n",
      "3nd loop:  38%|████████████▏                   | 19/50 [00:00<00:00, 89.21it/s]\u001b[A\u001b[A\n",
      "\n",
      "3nd loop:  56%|█████████████████▉              | 28/50 [00:00<00:00, 87.38it/s]\u001b[A\u001b[A\n",
      "\n",
      "3nd loop:  72%|███████████████████████         | 36/50 [00:00<00:00, 82.67it/s]\u001b[A\u001b[A\n",
      "\n",
      "3nd loop:  90%|████████████████████████████▊   | 45/50 [00:00<00:00, 83.80it/s]\u001b[A\u001b[A\n",
      "\n",
      "                                                                               \u001b[A\u001b[A\n",
      "2nd loop: 100%|██████████████████████████████████| 5/5 [00:03<00:00,  1.63it/s]\u001b[A\n",
      "1st loop:  25%|████████▌                         | 1/4 [00:03<00:09,  3.08s/it]\n",
      "2nd loop:   0%|                                          | 0/5 [00:00<?, ?it/s]\u001b[A\n",
      "\n",
      "3nd loop:   0%|                                         | 0/50 [00:00<?, ?it/s]\u001b[A\u001b[A\n",
      "\n",
      "3nd loop:  20%|██████▍                         | 10/50 [00:00<00:00, 90.96it/s]\u001b[A\u001b[A\n",
      "\n",
      "3nd loop:  36%|███████████▌                    | 18/50 [00:00<00:00, 84.62it/s]\u001b[A\u001b[A\n",
      "\n",
      "3nd loop:  54%|█████████████████▎              | 27/50 [00:00<00:00, 84.36it/s]\u001b[A\u001b[A\n",
      "\n",
      "3nd loop:  72%|███████████████████████         | 36/50 [00:00<00:00, 84.06it/s]\u001b[A\u001b[A\n",
      "\n",
      "3nd loop:  90%|████████████████████████████▊   | 45/50 [00:00<00:00, 83.16it/s]\u001b[A\u001b[A\n",
      "\n",
      "                                                                               \u001b[A\u001b[A\n",
      "2nd loop:  20%|██████▊                           | 1/5 [00:00<00:02,  1.50it/s]\u001b[A\n",
      "\n",
      "3nd loop:   0%|                                         | 0/50 [00:00<?, ?it/s]\u001b[A\u001b[A\n",
      "\n",
      "3nd loop:  20%|██████▍                         | 10/50 [00:00<00:00, 91.80it/s]\u001b[A\u001b[A\n",
      "\n",
      "3nd loop:  34%|██████████▉                     | 17/50 [00:00<00:00, 81.91it/s]\u001b[A\u001b[A\n",
      "\n",
      "3nd loop:  52%|████████████████▋               | 26/50 [00:00<00:00, 82.80it/s]\u001b[A\u001b[A\n",
      "\n",
      "3nd loop:  68%|█████████████████████▊          | 34/50 [00:00<00:00, 80.96it/s]\u001b[A\u001b[A\n",
      "\n",
      "3nd loop:  84%|██████████████████████████▉     | 42/50 [00:00<00:00, 79.24it/s]\u001b[A\u001b[A\n",
      "\n",
      "3nd loop: 100%|████████████████████████████████| 50/50 [00:00<00:00, 79.25it/s]\u001b[A\u001b[A\n",
      "\n",
      "                                                                               \u001b[A\u001b[A\n",
      "2nd loop:  40%|█████████████▌                    | 2/5 [00:01<00:02,  1.48it/s]\u001b[A\n",
      "\n",
      "3nd loop:   0%|                                         | 0/50 [00:00<?, ?it/s]\u001b[A\u001b[A\n",
      "\n",
      "3nd loop:  20%|██████▍                         | 10/50 [00:00<00:00, 92.64it/s]\u001b[A\u001b[A\n",
      "\n",
      "3nd loop:  38%|████████████▏                   | 19/50 [00:00<00:00, 90.74it/s]\u001b[A\u001b[A\n",
      "\n",
      "3nd loop:  56%|█████████████████▉              | 28/50 [00:00<00:00, 89.45it/s]\u001b[A\u001b[A\n",
      "\n",
      "3nd loop:  74%|███████████████████████▋        | 37/50 [00:00<00:00, 87.54it/s]\u001b[A\u001b[A\n",
      "\n",
      "3nd loop:  92%|█████████████████████████████▍  | 46/50 [00:00<00:00, 87.00it/s]\u001b[A\u001b[A\n",
      "\n",
      "                                                                               \u001b[A\u001b[A\n",
      "2nd loop:  60%|████████████████████▍             | 3/5 [00:02<00:01,  1.50it/s]\u001b[A\n",
      "\n",
      "3nd loop:   0%|                                         | 0/50 [00:00<?, ?it/s]\u001b[A\u001b[A\n",
      "\n",
      "3nd loop:  20%|██████▍                         | 10/50 [00:00<00:00, 91.80it/s]\u001b[A\u001b[A\n",
      "\n",
      "3nd loop:  38%|████████████▏                   | 19/50 [00:00<00:00, 90.99it/s]\u001b[A\u001b[A\n",
      "\n",
      "3nd loop:  56%|█████████████████▉              | 28/50 [00:00<00:00, 89.89it/s]\u001b[A\u001b[A\n",
      "\n",
      "3nd loop:  76%|████████████████████████▎       | 38/50 [00:00<00:00, 90.45it/s]\u001b[A\u001b[A\n",
      "\n",
      "3nd loop:  94%|██████████████████████████████  | 47/50 [00:00<00:00, 89.79it/s]\u001b[A\u001b[A\n",
      "\n",
      "                                                                               \u001b[A\u001b[A\n",
      "2nd loop:  80%|███████████████████████████▏      | 4/5 [00:02<00:00,  1.57it/s]\u001b[A\n",
      "\n",
      "3nd loop:   0%|                                         | 0/50 [00:00<?, ?it/s]\u001b[A\u001b[A\n",
      "\n",
      "3nd loop:  20%|██████▍                         | 10/50 [00:00<00:00, 92.63it/s]\u001b[A\u001b[A\n",
      "\n",
      "3nd loop:  40%|████████████▊                   | 20/50 [00:00<00:00, 92.39it/s]\u001b[A\u001b[A\n",
      "\n",
      "3nd loop:  58%|██████████████████▌             | 29/50 [00:00<00:00, 91.12it/s]\u001b[A\u001b[A\n",
      "\n",
      "3nd loop:  76%|████████████████████████▎       | 38/50 [00:00<00:00, 88.39it/s]\u001b[A\u001b[A\n",
      "\n",
      "3nd loop:  94%|██████████████████████████████  | 47/50 [00:00<00:00, 86.57it/s]\u001b[A\u001b[A\n",
      "\n",
      "                                                                               \u001b[A\u001b[A\n",
      "2nd loop: 100%|██████████████████████████████████| 5/5 [00:03<00:00,  1.57it/s]\u001b[A\n",
      "1st loop:  50%|█████████████████                 | 2/4 [00:06<00:06,  3.13s/it]\n",
      "2nd loop:   0%|                                          | 0/5 [00:00<?, ?it/s]\u001b[A\n",
      "\n",
      "3nd loop:   0%|                                         | 0/50 [00:00<?, ?it/s]\u001b[A\u001b[A\n",
      "\n",
      "3nd loop:  20%|██████▍                         | 10/50 [00:00<00:00, 91.80it/s]\u001b[A\u001b[A\n",
      "\n",
      "3nd loop:  38%|████████████▏                   | 19/50 [00:00<00:00, 88.57it/s]\u001b[A\u001b[A\n",
      "\n",
      "3nd loop:  56%|█████████████████▉              | 28/50 [00:00<00:00, 87.20it/s]\u001b[A\u001b[A\n",
      "\n",
      "3nd loop:  74%|███████████████████████▋        | 37/50 [00:00<00:00, 87.02it/s]\u001b[A\u001b[A\n",
      "\n",
      "3nd loop:  92%|█████████████████████████████▍  | 46/50 [00:00<00:00, 87.65it/s]\u001b[A\u001b[A\n",
      "\n",
      "                                                                               \u001b[A\u001b[A\n",
      "2nd loop:  20%|██████▊                           | 1/5 [00:00<00:02,  1.66it/s]\u001b[A\n",
      "\n"
     ]
    },
    {
     "name": "stderr",
     "output_type": "stream",
     "text": [
      "3nd loop:   0%|                                         | 0/50 [00:00<?, ?it/s]\u001b[A\u001b[A\n",
      "\n",
      "3nd loop:  20%|██████▍                         | 10/50 [00:00<00:00, 90.96it/s]\u001b[A\u001b[A\n",
      "\n",
      "3nd loop:  38%|████████████▏                   | 19/50 [00:00<00:00, 89.07it/s]\u001b[A\u001b[A\n",
      "\n",
      "3nd loop:  56%|█████████████████▉              | 28/50 [00:00<00:00, 89.10it/s]\u001b[A\u001b[A\n",
      "\n",
      "3nd loop:  74%|███████████████████████▋        | 37/50 [00:00<00:00, 88.59it/s]\u001b[A\u001b[A\n",
      "\n",
      "3nd loop:  92%|█████████████████████████████▍  | 46/50 [00:00<00:00, 88.76it/s]\u001b[A\u001b[A\n",
      "\n",
      "                                                                               \u001b[A\u001b[A\n",
      "2nd loop:  40%|█████████████▌                    | 2/5 [00:01<00:01,  1.67it/s]\u001b[A\n",
      "\n",
      "3nd loop:   0%|                                         | 0/50 [00:00<?, ?it/s]\u001b[A\u001b[A\n",
      "\n",
      "3nd loop:  20%|██████▍                         | 10/50 [00:00<00:00, 90.96it/s]\u001b[A\u001b[A\n",
      "\n",
      "3nd loop:  38%|████████████▏                   | 19/50 [00:00<00:00, 89.87it/s]\u001b[A\u001b[A\n",
      "\n",
      "3nd loop:  56%|█████████████████▉              | 28/50 [00:00<00:00, 87.57it/s]\u001b[A\u001b[A\n",
      "\n",
      "3nd loop:  74%|███████████████████████▋        | 37/50 [00:00<00:00, 87.27it/s]\u001b[A\u001b[A\n",
      "\n",
      "3nd loop:  92%|█████████████████████████████▍  | 46/50 [00:00<00:00, 87.32it/s]\u001b[A\u001b[A\n",
      "\n",
      "                                                                               \u001b[A\u001b[A\n",
      "2nd loop:  60%|████████████████████▍             | 3/5 [00:01<00:01,  1.68it/s]\u001b[A\n",
      "\n",
      "3nd loop:   0%|                                         | 0/50 [00:00<?, ?it/s]\u001b[A\u001b[A\n",
      "\n",
      "3nd loop:  20%|██████▍                         | 10/50 [00:00<00:00, 90.96it/s]\u001b[A\u001b[A\n",
      "\n",
      "3nd loop:  38%|████████████▏                   | 19/50 [00:00<00:00, 89.87it/s]\u001b[A\u001b[A\n",
      "\n",
      "3nd loop:  56%|█████████████████▉              | 28/50 [00:00<00:00, 89.13it/s]\u001b[A\u001b[A\n",
      "\n",
      "3nd loop:  74%|███████████████████████▋        | 37/50 [00:00<00:00, 87.32it/s]\u001b[A\u001b[A\n",
      "\n",
      "3nd loop:  92%|█████████████████████████████▍  | 46/50 [00:00<00:00, 85.61it/s]\u001b[A\u001b[A\n",
      "\n",
      "                                                                               \u001b[A\u001b[A\n",
      "2nd loop:  80%|███████████████████████████▏      | 4/5 [00:02<00:00,  1.66it/s]\u001b[A\n",
      "\n",
      "3nd loop:   0%|                                         | 0/50 [00:00<?, ?it/s]\u001b[A\u001b[A\n",
      "\n",
      "3nd loop:  20%|██████▍                         | 10/50 [00:00<00:00, 92.65it/s]\u001b[A\u001b[A\n",
      "\n",
      "3nd loop:  34%|██████████▉                     | 17/50 [00:00<00:00, 84.16it/s]\u001b[A\u001b[A\n",
      "\n",
      "3nd loop:  52%|████████████████▋               | 26/50 [00:00<00:00, 84.88it/s]\u001b[A\u001b[A\n",
      "\n",
      "3nd loop:  70%|██████████████████████▍         | 35/50 [00:00<00:00, 84.66it/s]\u001b[A\u001b[A\n",
      "\n",
      "3nd loop:  88%|████████████████████████████▏   | 44/50 [00:00<00:00, 84.51it/s]\u001b[A\u001b[A\n",
      "\n",
      "                                                                               \u001b[A\u001b[A\n",
      "2nd loop: 100%|██████████████████████████████████| 5/5 [00:03<00:00,  1.65it/s]\u001b[A\n",
      "1st loop:  75%|█████████████████████████▌        | 3/4 [00:09<00:03,  3.11s/it]\n",
      "2nd loop:   0%|                                          | 0/5 [00:00<?, ?it/s]\u001b[A\n",
      "\n",
      "3nd loop:   0%|                                         | 0/50 [00:00<?, ?it/s]\u001b[A\u001b[A\n",
      "\n",
      "3nd loop:  20%|██████▍                         | 10/50 [00:00<00:00, 90.96it/s]\u001b[A\u001b[A\n",
      "\n",
      "3nd loop:  38%|████████████▏                   | 19/50 [00:00<00:00, 88.02it/s]\u001b[A\u001b[A\n",
      "\n",
      "3nd loop:  56%|█████████████████▉              | 28/50 [00:00<00:00, 87.85it/s]\u001b[A\u001b[A\n",
      "\n",
      "3nd loop:  74%|███████████████████████▋        | 37/50 [00:00<00:00, 86.46it/s]\u001b[A\u001b[A\n",
      "\n",
      "3nd loop:  90%|████████████████████████████▊   | 45/50 [00:00<00:00, 84.16it/s]\u001b[A\u001b[A\n",
      "\n",
      "                                                                               \u001b[A\u001b[A\n",
      "2nd loop:  20%|██████▊                           | 1/5 [00:00<00:02,  1.63it/s]\u001b[A\n",
      "\n",
      "3nd loop:   0%|                                         | 0/50 [00:00<?, ?it/s]\u001b[A\u001b[A\n",
      "\n",
      "3nd loop:  20%|██████▍                         | 10/50 [00:00<00:00, 91.80it/s]\u001b[A\u001b[A\n",
      "\n",
      "3nd loop:  38%|████████████▏                   | 19/50 [00:00<00:00, 90.44it/s]\u001b[A\u001b[A\n",
      "\n",
      "3nd loop:  56%|█████████████████▉              | 28/50 [00:00<00:00, 89.78it/s]\u001b[A\u001b[A\n",
      "\n",
      "3nd loop:  76%|████████████████████████▎       | 38/50 [00:00<00:00, 89.89it/s]\u001b[A\u001b[A\n",
      "\n",
      "3nd loop:  94%|██████████████████████████████  | 47/50 [00:00<00:00, 89.14it/s]\u001b[A\u001b[A\n",
      "\n",
      "                                                                               \u001b[A\u001b[A\n",
      "2nd loop:  40%|█████████████▌                    | 2/5 [00:01<00:01,  1.65it/s]\u001b[A\n",
      "\n",
      "3nd loop:   0%|                                         | 0/50 [00:00<?, ?it/s]\u001b[A\u001b[A\n",
      "\n",
      "3nd loop:  20%|██████▍                         | 10/50 [00:00<00:00, 90.97it/s]\u001b[A\u001b[A\n",
      "\n",
      "3nd loop:  38%|████████████▏                   | 19/50 [00:00<00:00, 89.88it/s]\u001b[A\u001b[A\n",
      "\n",
      "3nd loop:  56%|█████████████████▉              | 28/50 [00:00<00:00, 89.39it/s]\u001b[A\u001b[A\n",
      "\n",
      "3nd loop:  72%|███████████████████████         | 36/50 [00:00<00:00, 85.53it/s]\u001b[A\u001b[A\n",
      "\n",
      "3nd loop:  90%|████████████████████████████▊   | 45/50 [00:00<00:00, 84.16it/s]\u001b[A\u001b[A\n",
      "\n",
      "                                                                               \u001b[A\u001b[A\n",
      "2nd loop:  60%|████████████████████▍             | 3/5 [00:01<00:01,  1.65it/s]\u001b[A\n",
      "\n",
      "3nd loop:   0%|                                         | 0/50 [00:00<?, ?it/s]\u001b[A\u001b[A\n",
      "\n",
      "3nd loop:  20%|██████▍                         | 10/50 [00:00<00:00, 90.96it/s]\u001b[A\u001b[A\n",
      "\n",
      "3nd loop:  38%|████████████▏                   | 19/50 [00:00<00:00, 89.07it/s]\u001b[A\u001b[A\n",
      "\n",
      "3nd loop:  56%|█████████████████▉              | 28/50 [00:00<00:00, 88.31it/s]\u001b[A\u001b[A\n",
      "\n",
      "3nd loop:  74%|███████████████████████▋        | 37/50 [00:00<00:00, 88.30it/s]\u001b[A\u001b[A\n",
      "\n",
      "3nd loop:  92%|█████████████████████████████▍  | 46/50 [00:00<00:00, 88.56it/s]\u001b[A\u001b[A\n",
      "\n",
      "                                                                               \u001b[A\u001b[A\n",
      "2nd loop:  80%|███████████████████████████▏      | 4/5 [00:02<00:00,  1.66it/s]\u001b[A\n",
      "\n",
      "3nd loop:   0%|                                         | 0/50 [00:00<?, ?it/s]\u001b[A\u001b[A\n",
      "\n",
      "3nd loop:  20%|██████▍                         | 10/50 [00:00<00:00, 91.80it/s]\u001b[A\u001b[A\n",
      "\n",
      "3nd loop:  38%|████████████▏                   | 19/50 [00:00<00:00, 90.44it/s]\u001b[A\u001b[A\n",
      "\n",
      "3nd loop:  56%|█████████████████▉              | 28/50 [00:00<00:00, 90.06it/s]\u001b[A\u001b[A\n",
      "\n",
      "3nd loop:  74%|███████████████████████▋        | 37/50 [00:00<00:00, 89.79it/s]\u001b[A\u001b[A\n",
      "\n",
      "3nd loop:  92%|█████████████████████████████▍  | 46/50 [00:00<00:00, 87.50it/s]\u001b[A\u001b[A\n",
      "\n",
      "                                                                               \u001b[A\u001b[A\n",
      "2nd loop: 100%|██████████████████████████████████| 5/5 [00:02<00:00,  1.67it/s]\u001b[A\n",
      "1st loop: 100%|██████████████████████████████████| 4/4 [00:12<00:00,  3.10s/it]\n"
     ]
    }
   ],
   "source": [
    "from tqdm import trange\n",
    "from time import sleep\n",
    "\n",
    "for i in trange(4, desc='1st loop'):\n",
    "    for j in trange(5, desc = '2nd loop'):\n",
    "        for k in trange(50, desc = '3nd loop', leave = False):\n",
    "            sleep(0.01)        "
   ]
  },
  {
   "cell_type": "markdown",
   "metadata": {},
   "source": [
    "## Hooks and callbacks\n",
    "\n",
    "$tqdm$ can easily support callbacks/hooks and manual updates."
   ]
  },
  {
   "cell_type": "code",
   "execution_count": null,
   "metadata": {},
   "outputs": [],
   "source": [
    "import urllib, os\n",
    "\n",
    "eg_link = 'https://caspersci.uk.to/matryoshka.zip'\n",
    "urllib.urlretrieve(eg_link, filename = os.devnull, data=None)"
   ]
  },
  {
   "cell_type": "code",
   "execution_count": null,
   "metadata": {},
   "outputs": [],
   "source": [
    "# With qtdm\n",
    "class TqdmUpTo(tqdm):\n",
    "    \"\"\"TQDM up to\"\"\"\n",
    "    def update_to(self, blocks_so_far = 1, block_size = 1, total = None):\n",
    "        if total is not None:\n",
    "            self.total = total\n",
    "#         will also set self.n = blocks_so_far * block_size\n",
    "        self.update(blocks_so_far * block_size - self.n)\n",
    "\n",
    "with TqdmUpTo(unit = 'B', unit_scale = True, miniters = 1, desc = eg_link.split('/')[1]) as t:  # all optional kwargs\n",
    "    urllib.urlretrieve(eg_link, filename = os.devnull, reporthook = t.update_to, data = None)"
   ]
  },
  {
   "cell_type": "markdown",
   "metadata": {},
   "source": [
    "It is recommend to use $miniters = 1$ whenever there is potentially differences in iteration speed (e.g. downloading a file over a patchy connection)."
   ]
  },
  {
   "cell_type": "markdown",
   "metadata": {},
   "source": [
    "## Machine Learning"
   ]
  },
  {
   "cell_type": "code",
   "execution_count": null,
   "metadata": {},
   "outputs": [],
   "source": [
    "import tensorflow as tf\n",
    "from tf.keras.models import Sequential"
   ]
  },
  {
   "cell_type": "code",
   "execution_count": null,
   "metadata": {},
   "outputs": [],
   "source": [
    "model = Sequential()\n",
    "...\n"
   ]
  },
  {
   "cell_type": "code",
   "execution_count": null,
   "metadata": {},
   "outputs": [],
   "source": [
    "model.fit(x, y, epochs = 10);"
   ]
  },
  {
   "cell_type": "code",
   "execution_count": null,
   "metadata": {},
   "outputs": [],
   "source": [
    "with tqdm(total = 10, unit = 'epoch') as t:\n",
    "    def cbk(epoch, logs):\n",
    "        t.set_postfix(logs, refresh = False)  # don't force a refresh\n",
    "        t.update()  # this may trigger a refresh\n",
    "    cbkWrapped = keras.callbacks.LambdaCallback(on_epoch_end = cbk)\n",
    "    \n",
    "    model.fix(X, y, epochs = t.total, verbose = 0, callbacks = [cbkWrapped])"
   ]
  },
  {
   "cell_type": "markdown",
   "metadata": {},
   "source": [
    "## Pandas Integration\n",
    "\n",
    "Due to popular demand (ergh)."
   ]
  },
  {
   "cell_type": "code",
   "execution_count": 22,
   "metadata": {},
   "outputs": [],
   "source": [
    "import pandas as pd\n",
    "import numpy as np\n",
    "from tqdm import tqdm"
   ]
  },
  {
   "cell_type": "code",
   "execution_count": 23,
   "metadata": {},
   "outputs": [
    {
     "name": "stderr",
     "output_type": "stream",
     "text": [
      "C:\\Users\\marcus\\Anaconda3\\lib\\site-packages\\tqdm\\std.py:658: FutureWarning: The Panel class is removed from pandas. Accessing it from the top-level namespace will also be removed in the next version\n",
      "  from pandas import Panel\n",
      "my bar!: 100%|█████████████████████████████████| 10/10 [00:00<00:00, 58.93it/s]\n"
     ]
    },
    {
     "data": {
      "text/html": [
       "<div>\n",
       "<style scoped>\n",
       "    .dataframe tbody tr th:only-of-type {\n",
       "        vertical-align: middle;\n",
       "    }\n",
       "\n",
       "    .dataframe tbody tr th {\n",
       "        vertical-align: top;\n",
       "    }\n",
       "\n",
       "    .dataframe thead th {\n",
       "        text-align: right;\n",
       "    }\n",
       "</style>\n",
       "<table border=\"1\" class=\"dataframe\">\n",
       "  <thead>\n",
       "    <tr style=\"text-align: right;\">\n",
       "      <th></th>\n",
       "      <th>0</th>\n",
       "      <th>1</th>\n",
       "      <th>2</th>\n",
       "      <th>3</th>\n",
       "      <th>4</th>\n",
       "      <th>5</th>\n",
       "      <th>6</th>\n",
       "      <th>7</th>\n",
       "      <th>8</th>\n",
       "      <th>9</th>\n",
       "    </tr>\n",
       "  </thead>\n",
       "  <tbody>\n",
       "    <tr>\n",
       "      <th>0</th>\n",
       "      <td>0.662465</td>\n",
       "      <td>0.507679</td>\n",
       "      <td>0.584414</td>\n",
       "      <td>0.319617</td>\n",
       "      <td>0.077083</td>\n",
       "      <td>0.038915</td>\n",
       "      <td>0.037201</td>\n",
       "      <td>0.412146</td>\n",
       "      <td>0.047498</td>\n",
       "      <td>0.001949</td>\n",
       "    </tr>\n",
       "    <tr>\n",
       "      <th>1</th>\n",
       "      <td>0.533768</td>\n",
       "      <td>0.501246</td>\n",
       "      <td>0.065897</td>\n",
       "      <td>0.874013</td>\n",
       "      <td>0.863490</td>\n",
       "      <td>0.199131</td>\n",
       "      <td>0.000001</td>\n",
       "      <td>0.486739</td>\n",
       "      <td>0.922120</td>\n",
       "      <td>0.016542</td>\n",
       "    </tr>\n",
       "    <tr>\n",
       "      <th>2</th>\n",
       "      <td>0.108715</td>\n",
       "      <td>0.347920</td>\n",
       "      <td>0.288152</td>\n",
       "      <td>0.091878</td>\n",
       "      <td>0.152357</td>\n",
       "      <td>0.328646</td>\n",
       "      <td>0.313467</td>\n",
       "      <td>0.091962</td>\n",
       "      <td>0.011604</td>\n",
       "      <td>0.355695</td>\n",
       "    </tr>\n",
       "    <tr>\n",
       "      <th>3</th>\n",
       "      <td>0.015151</td>\n",
       "      <td>0.577841</td>\n",
       "      <td>0.168994</td>\n",
       "      <td>0.062336</td>\n",
       "      <td>0.563863</td>\n",
       "      <td>0.034961</td>\n",
       "      <td>0.383891</td>\n",
       "      <td>0.036878</td>\n",
       "      <td>0.175275</td>\n",
       "      <td>0.477448</td>\n",
       "    </tr>\n",
       "    <tr>\n",
       "      <th>4</th>\n",
       "      <td>0.094975</td>\n",
       "      <td>0.361353</td>\n",
       "      <td>0.012332</td>\n",
       "      <td>0.575333</td>\n",
       "      <td>0.139991</td>\n",
       "      <td>0.000489</td>\n",
       "      <td>0.157778</td>\n",
       "      <td>0.281676</td>\n",
       "      <td>0.783957</td>\n",
       "      <td>0.254181</td>\n",
       "    </tr>\n",
       "  </tbody>\n",
       "</table>\n",
       "</div>"
      ],
      "text/plain": [
       "          0         1         2         3         4         5         6  \\\n",
       "0  0.662465  0.507679  0.584414  0.319617  0.077083  0.038915  0.037201   \n",
       "1  0.533768  0.501246  0.065897  0.874013  0.863490  0.199131  0.000001   \n",
       "2  0.108715  0.347920  0.288152  0.091878  0.152357  0.328646  0.313467   \n",
       "3  0.015151  0.577841  0.168994  0.062336  0.563863  0.034961  0.383891   \n",
       "4  0.094975  0.361353  0.012332  0.575333  0.139991  0.000489  0.157778   \n",
       "\n",
       "          7         8         9  \n",
       "0  0.412146  0.047498  0.001949  \n",
       "1  0.486739  0.922120  0.016542  \n",
       "2  0.091962  0.011604  0.355695  \n",
       "3  0.036878  0.175275  0.477448  \n",
       "4  0.281676  0.783957  0.254181  "
      ]
     },
     "execution_count": 23,
     "metadata": {},
     "output_type": "execute_result"
    }
   ],
   "source": [
    "df = pd.DataFrame(np.random.rand(5, 10))\n",
    "\n",
    "# Register 'pandas.progress_apply', 'pandas.Series.map_apply', etc with 'tqdm'\n",
    "# (can use 'tqdm_gui', 'tqdm_notebook', optinal kwargs, etc.)\n",
    "tqdm.pandas(desc = 'my bar!')\n",
    "\n",
    "# 'apply' => 'progress_apply'\n",
    "# 'map' => 'progress_map'\n",
    "df.progress_apply(lambda x: x**2)\n",
    "\n",
    "# can also groupby:\n",
    "# df.groupby(0).progress_apply(lambda x: x**2)"
   ]
  },
  {
   "cell_type": "markdown",
   "metadata": {},
   "source": [
    "## IPython/Jupyter Integration\n",
    "\n",
    "IPython/Jupyter is supported via the $tqdm_notebook$ submodule:\n",
    "\n",
    "- Updata import package from:\n",
    "```sh\n",
    "from tqdm import tnrange, tqdm_notebook\n",
    "```\n",
    "\n",
    "- To this:\n",
    "\n",
    "```sh\n",
    "from tqdm.notebook import trange, tqdm\n",
    "```"
   ]
  },
  {
   "cell_type": "code",
   "execution_count": 25,
   "metadata": {},
   "outputs": [
    {
     "data": {
      "application/vnd.jupyter.widget-view+json": {
       "model_id": "a41e672ff89a42e7af2ca8c5b69a9eea",
       "version_major": 2,
       "version_minor": 0
      },
      "text/plain": [
       "HBox(children=(FloatProgress(value=0.0, description='1st loop', max=3.0, style=ProgressStyle(description_width…"
      ]
     },
     "metadata": {},
     "output_type": "display_data"
    },
    {
     "data": {
      "application/vnd.jupyter.widget-view+json": {
       "model_id": "cc0e2bdd30644641acb39c96e611ee1b",
       "version_major": 2,
       "version_minor": 0
      },
      "text/plain": [
       "HBox(children=(FloatProgress(value=0.0, description='2nd loop', style=ProgressStyle(description_width='initial…"
      ]
     },
     "metadata": {},
     "output_type": "display_data"
    },
    {
     "name": "stdout",
     "output_type": "stream",
     "text": [
      "\n"
     ]
    },
    {
     "data": {
      "application/vnd.jupyter.widget-view+json": {
       "model_id": "a8689f2e847649f6affaf938c196c16f",
       "version_major": 2,
       "version_minor": 0
      },
      "text/plain": [
       "HBox(children=(FloatProgress(value=0.0, description='2nd loop', style=ProgressStyle(description_width='initial…"
      ]
     },
     "metadata": {},
     "output_type": "display_data"
    },
    {
     "name": "stdout",
     "output_type": "stream",
     "text": [
      "\n"
     ]
    },
    {
     "data": {
      "application/vnd.jupyter.widget-view+json": {
       "model_id": "055b1c9cf04f4910921aa5e4d254870a",
       "version_major": 2,
       "version_minor": 0
      },
      "text/plain": [
       "HBox(children=(FloatProgress(value=0.0, description='2nd loop', style=ProgressStyle(description_width='initial…"
      ]
     },
     "metadata": {},
     "output_type": "display_data"
    },
    {
     "name": "stdout",
     "output_type": "stream",
     "text": [
      "\n",
      "\n"
     ]
    }
   ],
   "source": [
    "from tqdm.notebook import trange, tqdm\n",
    "from time import sleep\n",
    "\n",
    "for i in trange(3, desc = '1st loop'):\n",
    "    for j in tqdm(range(100), desc = '2nd loop'):\n",
    "        sleep(0.01)"
   ]
  },
  {
   "cell_type": "markdown",
   "metadata": {},
   "source": [
    "- Can let $tqdm$ automatically choose between CLI or notebook versions\n",
    "\n",
    "\n",
    "- Updata import package from:\n",
    "```sh\n",
    "from tqdm.autonotebook import tqdm\n",
    "from tqdm.auto import tqdm \n",
    "```\n",
    "\n",
    "- To this:\n",
    "\n",
    "```sh\n",
    "from tqdm import tqdm\n",
    "```"
   ]
  },
  {
   "cell_type": "code",
   "execution_count": 27,
   "metadata": {},
   "outputs": [],
   "source": [
    "from tqdm import tqdm  # may raise warning about Jupyter\n",
    "# from tqdm.auto import tqdm  # Not needs this, to avoid warnings\n",
    "\n",
    "tqdm.pandas()"
   ]
  },
  {
   "cell_type": "markdown",
   "metadata": {},
   "source": [
    "- Cannot distinguish between $jupyter \\; notebook$ and $jupyter \\; console$"
   ]
  },
  {
   "cell_type": "markdown",
   "metadata": {},
   "source": [
    "# Add a progress bar to Python\n",
    "\n",
    "Tutorial for bettler skills 'How to add a progress bar to Python with tqdm' (Let's Learn About) by Marcus Mariano\n",
    "\n",
    "**For more information about Marcus Mariano: [Web site](https://marcusmariano.github.io/mmariano/)**\n",
    "\n",
    "---\n",
    "\n",
    "**How to add a progress bar to Python  with tqdm: [here.](https://www.youtube.com/watch?v=XmoOV38DamA)** "
   ]
  },
  {
   "cell_type": "markdown",
   "metadata": {},
   "source": [
    "## How to add a progress bar to Python with tqdm"
   ]
  },
  {
   "cell_type": "code",
   "execution_count": 32,
   "metadata": {},
   "outputs": [
    {
     "name": "stderr",
     "output_type": "stream",
     "text": [
      "100%|█████████████████████████████████████| 1000/1000 [00:08<00:00, 119.05it/s]"
     ]
    },
    {
     "name": "stdout",
     "output_type": "stream",
     "text": [
      "I'm done\n"
     ]
    },
    {
     "name": "stderr",
     "output_type": "stream",
     "text": [
      "\n"
     ]
    }
   ],
   "source": [
    "from tqdm import tqdm  \n",
    "from time import sleep\n",
    "from random import uniform\n",
    "\n",
    "for _ in tqdm(range(1000)):  \n",
    "    sleep(uniform(0.005, 0.01))\n",
    "\n",
    "print(\"I'm done\")"
   ]
  },
  {
   "cell_type": "code",
   "execution_count": 35,
   "metadata": {},
   "outputs": [
    {
     "name": "stderr",
     "output_type": "stream",
     "text": [
      "100%|██████████████████████████████████| 100/100 [00:00<00:00, 120.10 apples/s]"
     ]
    },
    {
     "name": "stdout",
     "output_type": "stream",
     "text": [
      "I'm done\n"
     ]
    },
    {
     "name": "stderr",
     "output_type": "stream",
     "text": [
      "\n"
     ]
    }
   ],
   "source": [
    "\n",
    "for _ in tqdm(range(100), unit = ' apples'):  \n",
    "    sleep(uniform(0.005, 0.01))\n",
    "print(\"I'm done\")"
   ]
  },
  {
   "cell_type": "code",
   "execution_count": 37,
   "metadata": {},
   "outputs": [
    {
     "name": "stderr",
     "output_type": "stream",
     "text": [
      "looding : 100%|████████████████████████| 100/100 [00:00<00:00, 116.71 apples/s]"
     ]
    },
    {
     "name": "stdout",
     "output_type": "stream",
     "text": [
      "I'm done\n"
     ]
    },
    {
     "name": "stderr",
     "output_type": "stream",
     "text": [
      "\n"
     ]
    }
   ],
   "source": [
    "\n",
    "for _ in tqdm(range(100), unit = ' apples', desc = 'looding '):  \n",
    "    sleep(uniform(0.005, 0.01))\n",
    "print(\"I'm done\")"
   ]
  },
  {
   "cell_type": "code",
   "execution_count": 39,
   "metadata": {},
   "outputs": [
    {
     "name": "stderr",
     "output_type": "stream",
     "text": [
      "\n",
      "looding :   0%|                                   | 0/100 [00:00<?, ? apples/s]\u001b[A\n",
      "looding :  12%|███                      | 12/100 [00:00<00:00, 117.45 apples/s]\u001b[A\n",
      "looding :  24%|██████                   | 24/100 [00:00<00:00, 116.01 apples/s]\u001b[A\n",
      "looding :  36%|█████████                | 36/100 [00:00<00:00, 115.97 apples/s]\u001b[A\n",
      "looding :  48%|████████████             | 48/100 [00:00<00:00, 117.03 apples/s]\u001b[A\n",
      "looding :  60%|███████████████          | 60/100 [00:00<00:00, 116.28 apples/s]\u001b[A\n",
      "looding :  73%|██████████████████▎      | 73/100 [00:00<00:00, 117.71 apples/s]\u001b[A\n",
      "looding :  85%|█████████████████████▎   | 85/100 [00:00<00:00, 116.41 apples/s]\u001b[A\n",
      "looding : 100%|████████████████████████| 100/100 [00:00<00:00, 114.91 apples/s]\u001b[A"
     ]
    },
    {
     "name": "stdout",
     "output_type": "stream",
     "text": [
      "I'm done\n"
     ]
    },
    {
     "name": "stderr",
     "output_type": "stream",
     "text": [
      "\n"
     ]
    }
   ],
   "source": [
    "\n",
    "for _ in tqdm(range(100), unit = ' apples', desc = 'looding ', position = 1):  \n",
    "    sleep(uniform(0.005, 0.01))\n",
    "print(\"I'm done\")"
   ]
  },
  {
   "cell_type": "code",
   "execution_count": 40,
   "metadata": {},
   "outputs": [
    {
     "name": "stderr",
     "output_type": "stream",
     "text": [
      "\n",
      "looding :   0%|                                   | 0/100 [00:00<?, ? apples/s]\u001b[A\n",
      "looding :  13%|███▎                     | 13/100 [00:00<00:00, 126.74 apples/s]\u001b[A\n",
      "looding :  25%|██████▎                  | 25/100 [00:00<00:00, 122.78 apples/s]\u001b[A\n",
      "looding :  38%|█████████▌               | 38/100 [00:00<00:00, 122.20 apples/s]\u001b[A\n",
      "looding :  50%|████████████▌            | 50/100 [00:00<00:00, 118.07 apples/s]\u001b[A\n",
      "looding :  62%|███████████████▌         | 62/100 [00:00<00:00, 117.13 apples/s]\u001b[A\n",
      "looding :  74%|██████████████████▌      | 74/100 [00:00<00:00, 116.25 apples/s]\u001b[A\n",
      "looding :  87%|█████████████████████▊   | 87/100 [00:00<00:00, 119.62 apples/s]\u001b[A\n",
      "looding : 100%|████████████████████████| 100/100 [00:00<00:00, 116.60 apples/s]\u001b[A"
     ]
    },
    {
     "name": "stdout",
     "output_type": "stream",
     "text": [
      "I'm done\n"
     ]
    },
    {
     "name": "stderr",
     "output_type": "stream",
     "text": [
      "\n"
     ]
    }
   ],
   "source": [
    "\n",
    "for _ in tqdm(range(100), \n",
    "              unit = ' apples', \n",
    "              desc = 'looding ', \n",
    "              position = 1, \n",
    "              disable = False):  \n",
    "\n",
    "    sleep(uniform(0.005, 0.01))\n",
    "print(\"I'm done\")"
   ]
  },
  {
   "cell_type": "code",
   "execution_count": 41,
   "metadata": {},
   "outputs": [
    {
     "name": "stdout",
     "output_type": "stream",
     "text": [
      "I'm done\n"
     ]
    }
   ],
   "source": [
    "\n",
    "for _ in tqdm(range(100), \n",
    "              unit = ' apples', \n",
    "              desc = 'looding ', \n",
    "              position = 1, \n",
    "              disable = True):  \n",
    "\n",
    "    sleep(uniform(0.005, 0.01))\n",
    "\n",
    "print(\"I'm done\")"
   ]
  },
  {
   "cell_type": "markdown",
   "metadata": {},
   "source": [
    "## Create an instance of tqdm"
   ]
  },
  {
   "cell_type": "code",
   "execution_count": 42,
   "metadata": {},
   "outputs": [
    {
     "name": "stderr",
     "output_type": "stream",
     "text": [
      "Processing e elemente: 100%|█████████████████████| 5/5 [00:07<00:00,  1.50s/it]"
     ]
    },
    {
     "name": "stdout",
     "output_type": "stream",
     "text": [
      "I'm done\n"
     ]
    },
    {
     "name": "stderr",
     "output_type": "stream",
     "text": [
      "\n"
     ]
    }
   ],
   "source": [
    "pbar = tqdm(['a', 'b', 'c', 'd', 'e'])\n",
    "\n",
    "for char in pbar:\n",
    "    sleep(1.5)\n",
    "    pbar.set_description(f'Processing {char} elemente')\n",
    "\n",
    "print(\"I'm done\")"
   ]
  },
  {
   "cell_type": "markdown",
   "metadata": {},
   "source": [
    "## Used trange\n",
    "\n",
    "A shortcut for $(tqdm + range)$"
   ]
  },
  {
   "cell_type": "code",
   "execution_count": 43,
   "metadata": {},
   "outputs": [],
   "source": [
    "from tqdm import trange"
   ]
  },
  {
   "cell_type": "code",
   "execution_count": 45,
   "metadata": {},
   "outputs": [
    {
     "name": "stderr",
     "output_type": "stream",
     "text": [
      "100%|█████████████████████████████████████| 1000/1000 [00:08<00:00, 118.28it/s]"
     ]
    },
    {
     "name": "stdout",
     "output_type": "stream",
     "text": [
      "I'm done\n"
     ]
    },
    {
     "name": "stderr",
     "output_type": "stream",
     "text": [
      "\n"
     ]
    }
   ],
   "source": [
    "for _ in trange(1000):  \n",
    "    sleep(uniform(0.005, 0.01))\n",
    "\n",
    "print(\"I'm done\")"
   ]
  }
 ],
 "metadata": {
  "kernelspec": {
   "display_name": "Python 3",
   "language": "python",
   "name": "python3"
  },
  "language_info": {
   "codemirror_mode": {
    "name": "ipython",
    "version": 3
   },
   "file_extension": ".py",
   "mimetype": "text/x-python",
   "name": "python",
   "nbconvert_exporter": "python",
   "pygments_lexer": "ipython3",
   "version": "3.7.6"
  }
 },
 "nbformat": 4,
 "nbformat_minor": 4
}
